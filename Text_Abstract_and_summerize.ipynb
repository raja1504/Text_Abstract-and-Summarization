{
  "nbformat": 4,
  "nbformat_minor": 0,
  "metadata": {
    "colab": {
      "provenance": []
    },
    "kernelspec": {
      "name": "python3",
      "display_name": "Python 3"
    },
    "language_info": {
      "name": "python"
    },
    "widgets": {
      "application/vnd.jupyter.widget-state+json": {
        "f52805ffc5c54ad4b19efc564468bcf5": {
          "model_module": "@jupyter-widgets/controls",
          "model_name": "HBoxModel",
          "model_module_version": "1.5.0",
          "state": {
            "_dom_classes": [],
            "_model_module": "@jupyter-widgets/controls",
            "_model_module_version": "1.5.0",
            "_model_name": "HBoxModel",
            "_view_count": null,
            "_view_module": "@jupyter-widgets/controls",
            "_view_module_version": "1.5.0",
            "_view_name": "HBoxView",
            "box_style": "",
            "children": [
              "IPY_MODEL_87fbc508a0bf4ed798593ec849231b6b",
              "IPY_MODEL_93728d8389344f6198d2a61f24dc8fa3",
              "IPY_MODEL_7b95535acb85458ba1e0aeb98384e795"
            ],
            "layout": "IPY_MODEL_dc6114b5e61c446980979ad97e76c2ff"
          }
        },
        "87fbc508a0bf4ed798593ec849231b6b": {
          "model_module": "@jupyter-widgets/controls",
          "model_name": "HTMLModel",
          "model_module_version": "1.5.0",
          "state": {
            "_dom_classes": [],
            "_model_module": "@jupyter-widgets/controls",
            "_model_module_version": "1.5.0",
            "_model_name": "HTMLModel",
            "_view_count": null,
            "_view_module": "@jupyter-widgets/controls",
            "_view_module_version": "1.5.0",
            "_view_name": "HTMLView",
            "description": "",
            "description_tooltip": null,
            "layout": "IPY_MODEL_45df117382e549bcab09d363e63aaa19",
            "placeholder": "​",
            "style": "IPY_MODEL_1412eef4bc404c4ba68e4b2a6ecbac3d",
            "value": "Downloading: 100%"
          }
        },
        "93728d8389344f6198d2a61f24dc8fa3": {
          "model_module": "@jupyter-widgets/controls",
          "model_name": "FloatProgressModel",
          "model_module_version": "1.5.0",
          "state": {
            "_dom_classes": [],
            "_model_module": "@jupyter-widgets/controls",
            "_model_module_version": "1.5.0",
            "_model_name": "FloatProgressModel",
            "_view_count": null,
            "_view_module": "@jupyter-widgets/controls",
            "_view_module_version": "1.5.0",
            "_view_name": "ProgressView",
            "bar_style": "success",
            "description": "",
            "description_tooltip": null,
            "layout": "IPY_MODEL_f13850cae44f465cac1bde2945f8eeb3",
            "max": 1197,
            "min": 0,
            "orientation": "horizontal",
            "style": "IPY_MODEL_a8e6202db1114b389d32ccda7444e380",
            "value": 1197
          }
        },
        "7b95535acb85458ba1e0aeb98384e795": {
          "model_module": "@jupyter-widgets/controls",
          "model_name": "HTMLModel",
          "model_module_version": "1.5.0",
          "state": {
            "_dom_classes": [],
            "_model_module": "@jupyter-widgets/controls",
            "_model_module_version": "1.5.0",
            "_model_name": "HTMLModel",
            "_view_count": null,
            "_view_module": "@jupyter-widgets/controls",
            "_view_module_version": "1.5.0",
            "_view_name": "HTMLView",
            "description": "",
            "description_tooltip": null,
            "layout": "IPY_MODEL_52b7da63de2f4b9f9decc9084de80005",
            "placeholder": "​",
            "style": "IPY_MODEL_18df5d4d16fc45aeb663828f2f8bc677",
            "value": " 1.20k/1.20k [00:00&lt;00:00, 48.9kB/s]"
          }
        },
        "dc6114b5e61c446980979ad97e76c2ff": {
          "model_module": "@jupyter-widgets/base",
          "model_name": "LayoutModel",
          "model_module_version": "1.2.0",
          "state": {
            "_model_module": "@jupyter-widgets/base",
            "_model_module_version": "1.2.0",
            "_model_name": "LayoutModel",
            "_view_count": null,
            "_view_module": "@jupyter-widgets/base",
            "_view_module_version": "1.2.0",
            "_view_name": "LayoutView",
            "align_content": null,
            "align_items": null,
            "align_self": null,
            "border": null,
            "bottom": null,
            "display": null,
            "flex": null,
            "flex_flow": null,
            "grid_area": null,
            "grid_auto_columns": null,
            "grid_auto_flow": null,
            "grid_auto_rows": null,
            "grid_column": null,
            "grid_gap": null,
            "grid_row": null,
            "grid_template_areas": null,
            "grid_template_columns": null,
            "grid_template_rows": null,
            "height": null,
            "justify_content": null,
            "justify_items": null,
            "left": null,
            "margin": null,
            "max_height": null,
            "max_width": null,
            "min_height": null,
            "min_width": null,
            "object_fit": null,
            "object_position": null,
            "order": null,
            "overflow": null,
            "overflow_x": null,
            "overflow_y": null,
            "padding": null,
            "right": null,
            "top": null,
            "visibility": null,
            "width": null
          }
        },
        "45df117382e549bcab09d363e63aaa19": {
          "model_module": "@jupyter-widgets/base",
          "model_name": "LayoutModel",
          "model_module_version": "1.2.0",
          "state": {
            "_model_module": "@jupyter-widgets/base",
            "_model_module_version": "1.2.0",
            "_model_name": "LayoutModel",
            "_view_count": null,
            "_view_module": "@jupyter-widgets/base",
            "_view_module_version": "1.2.0",
            "_view_name": "LayoutView",
            "align_content": null,
            "align_items": null,
            "align_self": null,
            "border": null,
            "bottom": null,
            "display": null,
            "flex": null,
            "flex_flow": null,
            "grid_area": null,
            "grid_auto_columns": null,
            "grid_auto_flow": null,
            "grid_auto_rows": null,
            "grid_column": null,
            "grid_gap": null,
            "grid_row": null,
            "grid_template_areas": null,
            "grid_template_columns": null,
            "grid_template_rows": null,
            "height": null,
            "justify_content": null,
            "justify_items": null,
            "left": null,
            "margin": null,
            "max_height": null,
            "max_width": null,
            "min_height": null,
            "min_width": null,
            "object_fit": null,
            "object_position": null,
            "order": null,
            "overflow": null,
            "overflow_x": null,
            "overflow_y": null,
            "padding": null,
            "right": null,
            "top": null,
            "visibility": null,
            "width": null
          }
        },
        "1412eef4bc404c4ba68e4b2a6ecbac3d": {
          "model_module": "@jupyter-widgets/controls",
          "model_name": "DescriptionStyleModel",
          "model_module_version": "1.5.0",
          "state": {
            "_model_module": "@jupyter-widgets/controls",
            "_model_module_version": "1.5.0",
            "_model_name": "DescriptionStyleModel",
            "_view_count": null,
            "_view_module": "@jupyter-widgets/base",
            "_view_module_version": "1.2.0",
            "_view_name": "StyleView",
            "description_width": ""
          }
        },
        "f13850cae44f465cac1bde2945f8eeb3": {
          "model_module": "@jupyter-widgets/base",
          "model_name": "LayoutModel",
          "model_module_version": "1.2.0",
          "state": {
            "_model_module": "@jupyter-widgets/base",
            "_model_module_version": "1.2.0",
            "_model_name": "LayoutModel",
            "_view_count": null,
            "_view_module": "@jupyter-widgets/base",
            "_view_module_version": "1.2.0",
            "_view_name": "LayoutView",
            "align_content": null,
            "align_items": null,
            "align_self": null,
            "border": null,
            "bottom": null,
            "display": null,
            "flex": null,
            "flex_flow": null,
            "grid_area": null,
            "grid_auto_columns": null,
            "grid_auto_flow": null,
            "grid_auto_rows": null,
            "grid_column": null,
            "grid_gap": null,
            "grid_row": null,
            "grid_template_areas": null,
            "grid_template_columns": null,
            "grid_template_rows": null,
            "height": null,
            "justify_content": null,
            "justify_items": null,
            "left": null,
            "margin": null,
            "max_height": null,
            "max_width": null,
            "min_height": null,
            "min_width": null,
            "object_fit": null,
            "object_position": null,
            "order": null,
            "overflow": null,
            "overflow_x": null,
            "overflow_y": null,
            "padding": null,
            "right": null,
            "top": null,
            "visibility": null,
            "width": null
          }
        },
        "a8e6202db1114b389d32ccda7444e380": {
          "model_module": "@jupyter-widgets/controls",
          "model_name": "ProgressStyleModel",
          "model_module_version": "1.5.0",
          "state": {
            "_model_module": "@jupyter-widgets/controls",
            "_model_module_version": "1.5.0",
            "_model_name": "ProgressStyleModel",
            "_view_count": null,
            "_view_module": "@jupyter-widgets/base",
            "_view_module_version": "1.2.0",
            "_view_name": "StyleView",
            "bar_color": null,
            "description_width": ""
          }
        },
        "52b7da63de2f4b9f9decc9084de80005": {
          "model_module": "@jupyter-widgets/base",
          "model_name": "LayoutModel",
          "model_module_version": "1.2.0",
          "state": {
            "_model_module": "@jupyter-widgets/base",
            "_model_module_version": "1.2.0",
            "_model_name": "LayoutModel",
            "_view_count": null,
            "_view_module": "@jupyter-widgets/base",
            "_view_module_version": "1.2.0",
            "_view_name": "LayoutView",
            "align_content": null,
            "align_items": null,
            "align_self": null,
            "border": null,
            "bottom": null,
            "display": null,
            "flex": null,
            "flex_flow": null,
            "grid_area": null,
            "grid_auto_columns": null,
            "grid_auto_flow": null,
            "grid_auto_rows": null,
            "grid_column": null,
            "grid_gap": null,
            "grid_row": null,
            "grid_template_areas": null,
            "grid_template_columns": null,
            "grid_template_rows": null,
            "height": null,
            "justify_content": null,
            "justify_items": null,
            "left": null,
            "margin": null,
            "max_height": null,
            "max_width": null,
            "min_height": null,
            "min_width": null,
            "object_fit": null,
            "object_position": null,
            "order": null,
            "overflow": null,
            "overflow_x": null,
            "overflow_y": null,
            "padding": null,
            "right": null,
            "top": null,
            "visibility": null,
            "width": null
          }
        },
        "18df5d4d16fc45aeb663828f2f8bc677": {
          "model_module": "@jupyter-widgets/controls",
          "model_name": "DescriptionStyleModel",
          "model_module_version": "1.5.0",
          "state": {
            "_model_module": "@jupyter-widgets/controls",
            "_model_module_version": "1.5.0",
            "_model_name": "DescriptionStyleModel",
            "_view_count": null,
            "_view_module": "@jupyter-widgets/base",
            "_view_module_version": "1.2.0",
            "_view_name": "StyleView",
            "description_width": ""
          }
        },
        "7fa7cc8bfc964ca8a324085cc047bac4": {
          "model_module": "@jupyter-widgets/controls",
          "model_name": "HBoxModel",
          "model_module_version": "1.5.0",
          "state": {
            "_dom_classes": [],
            "_model_module": "@jupyter-widgets/controls",
            "_model_module_version": "1.5.0",
            "_model_name": "HBoxModel",
            "_view_count": null,
            "_view_module": "@jupyter-widgets/controls",
            "_view_module_version": "1.5.0",
            "_view_name": "HBoxView",
            "box_style": "",
            "children": [
              "IPY_MODEL_457628abd6794fce999c7fbcb9662b51",
              "IPY_MODEL_e4babf514de54ee4af2eec0ffc34a79d",
              "IPY_MODEL_b08d89bae4394e1bbfc121706f56f23c"
            ],
            "layout": "IPY_MODEL_00a557dac83442a08226cd1027c6481b"
          }
        },
        "457628abd6794fce999c7fbcb9662b51": {
          "model_module": "@jupyter-widgets/controls",
          "model_name": "HTMLModel",
          "model_module_version": "1.5.0",
          "state": {
            "_dom_classes": [],
            "_model_module": "@jupyter-widgets/controls",
            "_model_module_version": "1.5.0",
            "_model_name": "HTMLModel",
            "_view_count": null,
            "_view_module": "@jupyter-widgets/controls",
            "_view_module_version": "1.5.0",
            "_view_name": "HTMLView",
            "description": "",
            "description_tooltip": null,
            "layout": "IPY_MODEL_c99e30de0bdd4cbf8e3aed17dcdfde09",
            "placeholder": "​",
            "style": "IPY_MODEL_3f081ba494bb41b7adc8a25c019b3067",
            "value": "Downloading: 100%"
          }
        },
        "e4babf514de54ee4af2eec0ffc34a79d": {
          "model_module": "@jupyter-widgets/controls",
          "model_name": "FloatProgressModel",
          "model_module_version": "1.5.0",
          "state": {
            "_dom_classes": [],
            "_model_module": "@jupyter-widgets/controls",
            "_model_module_version": "1.5.0",
            "_model_name": "FloatProgressModel",
            "_view_count": null,
            "_view_module": "@jupyter-widgets/controls",
            "_view_module_version": "1.5.0",
            "_view_name": "ProgressView",
            "bar_style": "success",
            "description": "",
            "description_tooltip": null,
            "layout": "IPY_MODEL_e4998df18667435fb559532447fc6e07",
            "max": 242065649,
            "min": 0,
            "orientation": "horizontal",
            "style": "IPY_MODEL_eccabbeb8aa242cd9ad09e4f0da23a55",
            "value": 242065649
          }
        },
        "b08d89bae4394e1bbfc121706f56f23c": {
          "model_module": "@jupyter-widgets/controls",
          "model_name": "HTMLModel",
          "model_module_version": "1.5.0",
          "state": {
            "_dom_classes": [],
            "_model_module": "@jupyter-widgets/controls",
            "_model_module_version": "1.5.0",
            "_model_name": "HTMLModel",
            "_view_count": null,
            "_view_module": "@jupyter-widgets/controls",
            "_view_module_version": "1.5.0",
            "_view_name": "HTMLView",
            "description": "",
            "description_tooltip": null,
            "layout": "IPY_MODEL_5b79b41285ea4da69c217d1b666045a0",
            "placeholder": "​",
            "style": "IPY_MODEL_a258396abec44e3d918d55521d3d2cbd",
            "value": " 242M/242M [00:07&lt;00:00, 38.3MB/s]"
          }
        },
        "00a557dac83442a08226cd1027c6481b": {
          "model_module": "@jupyter-widgets/base",
          "model_name": "LayoutModel",
          "model_module_version": "1.2.0",
          "state": {
            "_model_module": "@jupyter-widgets/base",
            "_model_module_version": "1.2.0",
            "_model_name": "LayoutModel",
            "_view_count": null,
            "_view_module": "@jupyter-widgets/base",
            "_view_module_version": "1.2.0",
            "_view_name": "LayoutView",
            "align_content": null,
            "align_items": null,
            "align_self": null,
            "border": null,
            "bottom": null,
            "display": null,
            "flex": null,
            "flex_flow": null,
            "grid_area": null,
            "grid_auto_columns": null,
            "grid_auto_flow": null,
            "grid_auto_rows": null,
            "grid_column": null,
            "grid_gap": null,
            "grid_row": null,
            "grid_template_areas": null,
            "grid_template_columns": null,
            "grid_template_rows": null,
            "height": null,
            "justify_content": null,
            "justify_items": null,
            "left": null,
            "margin": null,
            "max_height": null,
            "max_width": null,
            "min_height": null,
            "min_width": null,
            "object_fit": null,
            "object_position": null,
            "order": null,
            "overflow": null,
            "overflow_x": null,
            "overflow_y": null,
            "padding": null,
            "right": null,
            "top": null,
            "visibility": null,
            "width": null
          }
        },
        "c99e30de0bdd4cbf8e3aed17dcdfde09": {
          "model_module": "@jupyter-widgets/base",
          "model_name": "LayoutModel",
          "model_module_version": "1.2.0",
          "state": {
            "_model_module": "@jupyter-widgets/base",
            "_model_module_version": "1.2.0",
            "_model_name": "LayoutModel",
            "_view_count": null,
            "_view_module": "@jupyter-widgets/base",
            "_view_module_version": "1.2.0",
            "_view_name": "LayoutView",
            "align_content": null,
            "align_items": null,
            "align_self": null,
            "border": null,
            "bottom": null,
            "display": null,
            "flex": null,
            "flex_flow": null,
            "grid_area": null,
            "grid_auto_columns": null,
            "grid_auto_flow": null,
            "grid_auto_rows": null,
            "grid_column": null,
            "grid_gap": null,
            "grid_row": null,
            "grid_template_areas": null,
            "grid_template_columns": null,
            "grid_template_rows": null,
            "height": null,
            "justify_content": null,
            "justify_items": null,
            "left": null,
            "margin": null,
            "max_height": null,
            "max_width": null,
            "min_height": null,
            "min_width": null,
            "object_fit": null,
            "object_position": null,
            "order": null,
            "overflow": null,
            "overflow_x": null,
            "overflow_y": null,
            "padding": null,
            "right": null,
            "top": null,
            "visibility": null,
            "width": null
          }
        },
        "3f081ba494bb41b7adc8a25c019b3067": {
          "model_module": "@jupyter-widgets/controls",
          "model_name": "DescriptionStyleModel",
          "model_module_version": "1.5.0",
          "state": {
            "_model_module": "@jupyter-widgets/controls",
            "_model_module_version": "1.5.0",
            "_model_name": "DescriptionStyleModel",
            "_view_count": null,
            "_view_module": "@jupyter-widgets/base",
            "_view_module_version": "1.2.0",
            "_view_name": "StyleView",
            "description_width": ""
          }
        },
        "e4998df18667435fb559532447fc6e07": {
          "model_module": "@jupyter-widgets/base",
          "model_name": "LayoutModel",
          "model_module_version": "1.2.0",
          "state": {
            "_model_module": "@jupyter-widgets/base",
            "_model_module_version": "1.2.0",
            "_model_name": "LayoutModel",
            "_view_count": null,
            "_view_module": "@jupyter-widgets/base",
            "_view_module_version": "1.2.0",
            "_view_name": "LayoutView",
            "align_content": null,
            "align_items": null,
            "align_self": null,
            "border": null,
            "bottom": null,
            "display": null,
            "flex": null,
            "flex_flow": null,
            "grid_area": null,
            "grid_auto_columns": null,
            "grid_auto_flow": null,
            "grid_auto_rows": null,
            "grid_column": null,
            "grid_gap": null,
            "grid_row": null,
            "grid_template_areas": null,
            "grid_template_columns": null,
            "grid_template_rows": null,
            "height": null,
            "justify_content": null,
            "justify_items": null,
            "left": null,
            "margin": null,
            "max_height": null,
            "max_width": null,
            "min_height": null,
            "min_width": null,
            "object_fit": null,
            "object_position": null,
            "order": null,
            "overflow": null,
            "overflow_x": null,
            "overflow_y": null,
            "padding": null,
            "right": null,
            "top": null,
            "visibility": null,
            "width": null
          }
        },
        "eccabbeb8aa242cd9ad09e4f0da23a55": {
          "model_module": "@jupyter-widgets/controls",
          "model_name": "ProgressStyleModel",
          "model_module_version": "1.5.0",
          "state": {
            "_model_module": "@jupyter-widgets/controls",
            "_model_module_version": "1.5.0",
            "_model_name": "ProgressStyleModel",
            "_view_count": null,
            "_view_module": "@jupyter-widgets/base",
            "_view_module_version": "1.2.0",
            "_view_name": "StyleView",
            "bar_color": null,
            "description_width": ""
          }
        },
        "5b79b41285ea4da69c217d1b666045a0": {
          "model_module": "@jupyter-widgets/base",
          "model_name": "LayoutModel",
          "model_module_version": "1.2.0",
          "state": {
            "_model_module": "@jupyter-widgets/base",
            "_model_module_version": "1.2.0",
            "_model_name": "LayoutModel",
            "_view_count": null,
            "_view_module": "@jupyter-widgets/base",
            "_view_module_version": "1.2.0",
            "_view_name": "LayoutView",
            "align_content": null,
            "align_items": null,
            "align_self": null,
            "border": null,
            "bottom": null,
            "display": null,
            "flex": null,
            "flex_flow": null,
            "grid_area": null,
            "grid_auto_columns": null,
            "grid_auto_flow": null,
            "grid_auto_rows": null,
            "grid_column": null,
            "grid_gap": null,
            "grid_row": null,
            "grid_template_areas": null,
            "grid_template_columns": null,
            "grid_template_rows": null,
            "height": null,
            "justify_content": null,
            "justify_items": null,
            "left": null,
            "margin": null,
            "max_height": null,
            "max_width": null,
            "min_height": null,
            "min_width": null,
            "object_fit": null,
            "object_position": null,
            "order": null,
            "overflow": null,
            "overflow_x": null,
            "overflow_y": null,
            "padding": null,
            "right": null,
            "top": null,
            "visibility": null,
            "width": null
          }
        },
        "a258396abec44e3d918d55521d3d2cbd": {
          "model_module": "@jupyter-widgets/controls",
          "model_name": "DescriptionStyleModel",
          "model_module_version": "1.5.0",
          "state": {
            "_model_module": "@jupyter-widgets/controls",
            "_model_module_version": "1.5.0",
            "_model_name": "DescriptionStyleModel",
            "_view_count": null,
            "_view_module": "@jupyter-widgets/base",
            "_view_module_version": "1.2.0",
            "_view_name": "StyleView",
            "description_width": ""
          }
        },
        "d6a6d9f57295438aa74fe8794c92f253": {
          "model_module": "@jupyter-widgets/controls",
          "model_name": "HBoxModel",
          "model_module_version": "1.5.0",
          "state": {
            "_dom_classes": [],
            "_model_module": "@jupyter-widgets/controls",
            "_model_module_version": "1.5.0",
            "_model_name": "HBoxModel",
            "_view_count": null,
            "_view_module": "@jupyter-widgets/controls",
            "_view_module_version": "1.5.0",
            "_view_name": "HBoxView",
            "box_style": "",
            "children": [
              "IPY_MODEL_b6bf72a8c6b04521ad8082599a8f8764",
              "IPY_MODEL_a8caf478374342739932dd3700812bcf",
              "IPY_MODEL_7fcc50ad910447f7a3e847e2e9e9e738"
            ],
            "layout": "IPY_MODEL_8bc966607e6548308a9529f4ce8bbb1a"
          }
        },
        "b6bf72a8c6b04521ad8082599a8f8764": {
          "model_module": "@jupyter-widgets/controls",
          "model_name": "HTMLModel",
          "model_module_version": "1.5.0",
          "state": {
            "_dom_classes": [],
            "_model_module": "@jupyter-widgets/controls",
            "_model_module_version": "1.5.0",
            "_model_name": "HTMLModel",
            "_view_count": null,
            "_view_module": "@jupyter-widgets/controls",
            "_view_module_version": "1.5.0",
            "_view_name": "HTMLView",
            "description": "",
            "description_tooltip": null,
            "layout": "IPY_MODEL_906b4ac0ee0242c19dbcae88708cd8ea",
            "placeholder": "​",
            "style": "IPY_MODEL_26a26e9d88db404fa87e1a84d7017aa3",
            "value": "Downloading: 100%"
          }
        },
        "a8caf478374342739932dd3700812bcf": {
          "model_module": "@jupyter-widgets/controls",
          "model_name": "FloatProgressModel",
          "model_module_version": "1.5.0",
          "state": {
            "_dom_classes": [],
            "_model_module": "@jupyter-widgets/controls",
            "_model_module_version": "1.5.0",
            "_model_name": "FloatProgressModel",
            "_view_count": null,
            "_view_module": "@jupyter-widgets/controls",
            "_view_module_version": "1.5.0",
            "_view_name": "ProgressView",
            "bar_style": "success",
            "description": "",
            "description_tooltip": null,
            "layout": "IPY_MODEL_41286e44eb0d44559429b4f3d1743406",
            "max": 791656,
            "min": 0,
            "orientation": "horizontal",
            "style": "IPY_MODEL_2913db7be9fb4758a95778a91f65b9d3",
            "value": 791656
          }
        },
        "7fcc50ad910447f7a3e847e2e9e9e738": {
          "model_module": "@jupyter-widgets/controls",
          "model_name": "HTMLModel",
          "model_module_version": "1.5.0",
          "state": {
            "_dom_classes": [],
            "_model_module": "@jupyter-widgets/controls",
            "_model_module_version": "1.5.0",
            "_model_name": "HTMLModel",
            "_view_count": null,
            "_view_module": "@jupyter-widgets/controls",
            "_view_module_version": "1.5.0",
            "_view_name": "HTMLView",
            "description": "",
            "description_tooltip": null,
            "layout": "IPY_MODEL_31ef147966fa46cc84cc76daf5e692b4",
            "placeholder": "​",
            "style": "IPY_MODEL_ea548e1f21d54f159957391f3f16871a",
            "value": " 792k/792k [00:01&lt;00:00, 844kB/s]"
          }
        },
        "8bc966607e6548308a9529f4ce8bbb1a": {
          "model_module": "@jupyter-widgets/base",
          "model_name": "LayoutModel",
          "model_module_version": "1.2.0",
          "state": {
            "_model_module": "@jupyter-widgets/base",
            "_model_module_version": "1.2.0",
            "_model_name": "LayoutModel",
            "_view_count": null,
            "_view_module": "@jupyter-widgets/base",
            "_view_module_version": "1.2.0",
            "_view_name": "LayoutView",
            "align_content": null,
            "align_items": null,
            "align_self": null,
            "border": null,
            "bottom": null,
            "display": null,
            "flex": null,
            "flex_flow": null,
            "grid_area": null,
            "grid_auto_columns": null,
            "grid_auto_flow": null,
            "grid_auto_rows": null,
            "grid_column": null,
            "grid_gap": null,
            "grid_row": null,
            "grid_template_areas": null,
            "grid_template_columns": null,
            "grid_template_rows": null,
            "height": null,
            "justify_content": null,
            "justify_items": null,
            "left": null,
            "margin": null,
            "max_height": null,
            "max_width": null,
            "min_height": null,
            "min_width": null,
            "object_fit": null,
            "object_position": null,
            "order": null,
            "overflow": null,
            "overflow_x": null,
            "overflow_y": null,
            "padding": null,
            "right": null,
            "top": null,
            "visibility": null,
            "width": null
          }
        },
        "906b4ac0ee0242c19dbcae88708cd8ea": {
          "model_module": "@jupyter-widgets/base",
          "model_name": "LayoutModel",
          "model_module_version": "1.2.0",
          "state": {
            "_model_module": "@jupyter-widgets/base",
            "_model_module_version": "1.2.0",
            "_model_name": "LayoutModel",
            "_view_count": null,
            "_view_module": "@jupyter-widgets/base",
            "_view_module_version": "1.2.0",
            "_view_name": "LayoutView",
            "align_content": null,
            "align_items": null,
            "align_self": null,
            "border": null,
            "bottom": null,
            "display": null,
            "flex": null,
            "flex_flow": null,
            "grid_area": null,
            "grid_auto_columns": null,
            "grid_auto_flow": null,
            "grid_auto_rows": null,
            "grid_column": null,
            "grid_gap": null,
            "grid_row": null,
            "grid_template_areas": null,
            "grid_template_columns": null,
            "grid_template_rows": null,
            "height": null,
            "justify_content": null,
            "justify_items": null,
            "left": null,
            "margin": null,
            "max_height": null,
            "max_width": null,
            "min_height": null,
            "min_width": null,
            "object_fit": null,
            "object_position": null,
            "order": null,
            "overflow": null,
            "overflow_x": null,
            "overflow_y": null,
            "padding": null,
            "right": null,
            "top": null,
            "visibility": null,
            "width": null
          }
        },
        "26a26e9d88db404fa87e1a84d7017aa3": {
          "model_module": "@jupyter-widgets/controls",
          "model_name": "DescriptionStyleModel",
          "model_module_version": "1.5.0",
          "state": {
            "_model_module": "@jupyter-widgets/controls",
            "_model_module_version": "1.5.0",
            "_model_name": "DescriptionStyleModel",
            "_view_count": null,
            "_view_module": "@jupyter-widgets/base",
            "_view_module_version": "1.2.0",
            "_view_name": "StyleView",
            "description_width": ""
          }
        },
        "41286e44eb0d44559429b4f3d1743406": {
          "model_module": "@jupyter-widgets/base",
          "model_name": "LayoutModel",
          "model_module_version": "1.2.0",
          "state": {
            "_model_module": "@jupyter-widgets/base",
            "_model_module_version": "1.2.0",
            "_model_name": "LayoutModel",
            "_view_count": null,
            "_view_module": "@jupyter-widgets/base",
            "_view_module_version": "1.2.0",
            "_view_name": "LayoutView",
            "align_content": null,
            "align_items": null,
            "align_self": null,
            "border": null,
            "bottom": null,
            "display": null,
            "flex": null,
            "flex_flow": null,
            "grid_area": null,
            "grid_auto_columns": null,
            "grid_auto_flow": null,
            "grid_auto_rows": null,
            "grid_column": null,
            "grid_gap": null,
            "grid_row": null,
            "grid_template_areas": null,
            "grid_template_columns": null,
            "grid_template_rows": null,
            "height": null,
            "justify_content": null,
            "justify_items": null,
            "left": null,
            "margin": null,
            "max_height": null,
            "max_width": null,
            "min_height": null,
            "min_width": null,
            "object_fit": null,
            "object_position": null,
            "order": null,
            "overflow": null,
            "overflow_x": null,
            "overflow_y": null,
            "padding": null,
            "right": null,
            "top": null,
            "visibility": null,
            "width": null
          }
        },
        "2913db7be9fb4758a95778a91f65b9d3": {
          "model_module": "@jupyter-widgets/controls",
          "model_name": "ProgressStyleModel",
          "model_module_version": "1.5.0",
          "state": {
            "_model_module": "@jupyter-widgets/controls",
            "_model_module_version": "1.5.0",
            "_model_name": "ProgressStyleModel",
            "_view_count": null,
            "_view_module": "@jupyter-widgets/base",
            "_view_module_version": "1.2.0",
            "_view_name": "StyleView",
            "bar_color": null,
            "description_width": ""
          }
        },
        "31ef147966fa46cc84cc76daf5e692b4": {
          "model_module": "@jupyter-widgets/base",
          "model_name": "LayoutModel",
          "model_module_version": "1.2.0",
          "state": {
            "_model_module": "@jupyter-widgets/base",
            "_model_module_version": "1.2.0",
            "_model_name": "LayoutModel",
            "_view_count": null,
            "_view_module": "@jupyter-widgets/base",
            "_view_module_version": "1.2.0",
            "_view_name": "LayoutView",
            "align_content": null,
            "align_items": null,
            "align_self": null,
            "border": null,
            "bottom": null,
            "display": null,
            "flex": null,
            "flex_flow": null,
            "grid_area": null,
            "grid_auto_columns": null,
            "grid_auto_flow": null,
            "grid_auto_rows": null,
            "grid_column": null,
            "grid_gap": null,
            "grid_row": null,
            "grid_template_areas": null,
            "grid_template_columns": null,
            "grid_template_rows": null,
            "height": null,
            "justify_content": null,
            "justify_items": null,
            "left": null,
            "margin": null,
            "max_height": null,
            "max_width": null,
            "min_height": null,
            "min_width": null,
            "object_fit": null,
            "object_position": null,
            "order": null,
            "overflow": null,
            "overflow_x": null,
            "overflow_y": null,
            "padding": null,
            "right": null,
            "top": null,
            "visibility": null,
            "width": null
          }
        },
        "ea548e1f21d54f159957391f3f16871a": {
          "model_module": "@jupyter-widgets/controls",
          "model_name": "DescriptionStyleModel",
          "model_module_version": "1.5.0",
          "state": {
            "_model_module": "@jupyter-widgets/controls",
            "_model_module_version": "1.5.0",
            "_model_name": "DescriptionStyleModel",
            "_view_count": null,
            "_view_module": "@jupyter-widgets/base",
            "_view_module_version": "1.2.0",
            "_view_name": "StyleView",
            "description_width": ""
          }
        }
      }
    }
  },
  "cells": [
    {
      "cell_type": "code",
      "execution_count": null,
      "metadata": {
        "colab": {
          "base_uri": "https://localhost:8080/"
        },
        "id": "ueB-bPd9rrJl",
        "outputId": "41c5e232-a760-4cd5-d0dc-58782cdca4d2"
      },
      "outputs": [
        {
          "output_type": "stream",
          "name": "stdout",
          "text": [
            "Looking in indexes: https://pypi.org/simple, https://us-python.pkg.dev/colab-wheels/public/simple/\n",
            "Collecting transformers==2.8.0\n",
            "  Downloading transformers-2.8.0-py3-none-any.whl (563 kB)\n",
            "\u001b[2K     \u001b[90m━━━━━━━━━━━━━━━━━━━━━━━━━━━━━━━━━━━━━━\u001b[0m \u001b[32m563.8/563.8 KB\u001b[0m \u001b[31m11.5 MB/s\u001b[0m eta \u001b[36m0:00:00\u001b[0m\n",
            "\u001b[?25hRequirement already satisfied: tqdm>=4.27 in /usr/local/lib/python3.8/dist-packages (from transformers==2.8.0) (4.64.1)\n",
            "Requirement already satisfied: regex!=2019.12.17 in /usr/local/lib/python3.8/dist-packages (from transformers==2.8.0) (2022.6.2)\n",
            "Collecting sentencepiece\n",
            "  Downloading sentencepiece-0.1.97-cp38-cp38-manylinux_2_17_x86_64.manylinux2014_x86_64.whl (1.3 MB)\n",
            "\u001b[2K     \u001b[90m━━━━━━━━━━━━━━━━━━━━━━━━━━━━━━━━━━━━━━━━\u001b[0m \u001b[32m1.3/1.3 MB\u001b[0m \u001b[31m43.8 MB/s\u001b[0m eta \u001b[36m0:00:00\u001b[0m\n",
            "\u001b[?25hRequirement already satisfied: filelock in /usr/local/lib/python3.8/dist-packages (from transformers==2.8.0) (3.9.0)\n",
            "Requirement already satisfied: requests in /usr/local/lib/python3.8/dist-packages (from transformers==2.8.0) (2.25.1)\n",
            "Requirement already satisfied: numpy in /usr/local/lib/python3.8/dist-packages (from transformers==2.8.0) (1.21.6)\n",
            "Collecting boto3\n",
            "  Downloading boto3-1.26.59-py3-none-any.whl (132 kB)\n",
            "\u001b[2K     \u001b[90m━━━━━━━━━━━━━━━━━━━━━━━━━━━━━━━━━━━━━━\u001b[0m \u001b[32m132.7/132.7 KB\u001b[0m \u001b[31m14.2 MB/s\u001b[0m eta \u001b[36m0:00:00\u001b[0m\n",
            "\u001b[?25hCollecting sacremoses\n",
            "  Downloading sacremoses-0.0.53.tar.gz (880 kB)\n",
            "\u001b[2K     \u001b[90m━━━━━━━━━━━━━━━━━━━━━━━━━━━━━━━━━━━━━━\u001b[0m \u001b[32m880.6/880.6 KB\u001b[0m \u001b[31m50.9 MB/s\u001b[0m eta \u001b[36m0:00:00\u001b[0m\n",
            "\u001b[?25h  Preparing metadata (setup.py) ... \u001b[?25l\u001b[?25hdone\n",
            "Collecting tokenizers==0.5.2\n",
            "  Downloading tokenizers-0.5.2-cp38-cp38-manylinux1_x86_64.whl (7.4 MB)\n",
            "\u001b[2K     \u001b[90m━━━━━━━━━━━━━━━━━━━━━━━━━━━━━━━━━━━━━━━━\u001b[0m \u001b[32m7.4/7.4 MB\u001b[0m \u001b[31m67.3 MB/s\u001b[0m eta \u001b[36m0:00:00\u001b[0m\n",
            "\u001b[?25hCollecting botocore<1.30.0,>=1.29.59\n",
            "  Downloading botocore-1.29.59-py3-none-any.whl (10.4 MB)\n",
            "\u001b[2K     \u001b[90m━━━━━━━━━━━━━━━━━━━━━━━━━━━━━━━━━━━━━━━━\u001b[0m \u001b[32m10.4/10.4 MB\u001b[0m \u001b[31m57.4 MB/s\u001b[0m eta \u001b[36m0:00:00\u001b[0m\n",
            "\u001b[?25hCollecting jmespath<2.0.0,>=0.7.1\n",
            "  Downloading jmespath-1.0.1-py3-none-any.whl (20 kB)\n",
            "Collecting s3transfer<0.7.0,>=0.6.0\n",
            "  Downloading s3transfer-0.6.0-py3-none-any.whl (79 kB)\n",
            "\u001b[2K     \u001b[90m━━━━━━━━━━━━━━━━━━━━━━━━━━━━━━━━━━━━━━━━\u001b[0m \u001b[32m79.6/79.6 KB\u001b[0m \u001b[31m11.0 MB/s\u001b[0m eta \u001b[36m0:00:00\u001b[0m\n",
            "\u001b[?25hRequirement already satisfied: idna<3,>=2.5 in /usr/local/lib/python3.8/dist-packages (from requests->transformers==2.8.0) (2.10)\n",
            "Requirement already satisfied: chardet<5,>=3.0.2 in /usr/local/lib/python3.8/dist-packages (from requests->transformers==2.8.0) (4.0.0)\n",
            "Requirement already satisfied: certifi>=2017.4.17 in /usr/local/lib/python3.8/dist-packages (from requests->transformers==2.8.0) (2022.12.7)\n",
            "Requirement already satisfied: urllib3<1.27,>=1.21.1 in /usr/local/lib/python3.8/dist-packages (from requests->transformers==2.8.0) (1.24.3)\n",
            "Requirement already satisfied: six in /usr/local/lib/python3.8/dist-packages (from sacremoses->transformers==2.8.0) (1.15.0)\n",
            "Requirement already satisfied: click in /usr/local/lib/python3.8/dist-packages (from sacremoses->transformers==2.8.0) (7.1.2)\n",
            "Requirement already satisfied: joblib in /usr/local/lib/python3.8/dist-packages (from sacremoses->transformers==2.8.0) (1.2.0)\n",
            "Requirement already satisfied: python-dateutil<3.0.0,>=2.1 in /usr/local/lib/python3.8/dist-packages (from botocore<1.30.0,>=1.29.59->boto3->transformers==2.8.0) (2.8.2)\n",
            "Collecting urllib3<1.27,>=1.21.1\n",
            "  Downloading urllib3-1.26.14-py2.py3-none-any.whl (140 kB)\n",
            "\u001b[2K     \u001b[90m━━━━━━━━━━━━━━━━━━━━━━━━━━━━━━━━━━━━━━\u001b[0m \u001b[32m140.6/140.6 KB\u001b[0m \u001b[31m17.4 MB/s\u001b[0m eta \u001b[36m0:00:00\u001b[0m\n",
            "\u001b[?25hBuilding wheels for collected packages: sacremoses\n",
            "  Building wheel for sacremoses (setup.py) ... \u001b[?25l\u001b[?25hdone\n",
            "  Created wheel for sacremoses: filename=sacremoses-0.0.53-py3-none-any.whl size=895260 sha256=4c40196d521f0ffa95c9be087016282cdcf5feb35dd36f76bfad89e12a0585e1\n",
            "  Stored in directory: /root/.cache/pip/wheels/82/ab/9b/c15899bf659ba74f623ac776e861cf2eb8608c1825ddec66a4\n",
            "Successfully built sacremoses\n",
            "Installing collected packages: tokenizers, sentencepiece, urllib3, sacremoses, jmespath, botocore, s3transfer, boto3, transformers\n",
            "  Attempting uninstall: urllib3\n",
            "    Found existing installation: urllib3 1.24.3\n",
            "    Uninstalling urllib3-1.24.3:\n",
            "      Successfully uninstalled urllib3-1.24.3\n",
            "Successfully installed boto3-1.26.59 botocore-1.29.59 jmespath-1.0.1 s3transfer-0.6.0 sacremoses-0.0.53 sentencepiece-0.1.97 tokenizers-0.5.2 transformers-2.8.0 urllib3-1.26.14\n",
            "Looking in indexes: https://pypi.org/simple, https://us-python.pkg.dev/colab-wheels/public/simple/\n",
            "Collecting torch==1.4.0\n",
            "  Downloading torch-1.4.0-cp38-cp38-manylinux1_x86_64.whl (753.4 MB)\n",
            "\u001b[2K     \u001b[90m━━━━━━━━━━━━━━━━━━━━━━━━━━━━━━━━━━━━━━━\u001b[0m \u001b[32m753.4/753.4 MB\u001b[0m \u001b[31m1.7 MB/s\u001b[0m eta \u001b[36m0:00:00\u001b[0m\n",
            "\u001b[?25hInstalling collected packages: torch\n",
            "  Attempting uninstall: torch\n",
            "    Found existing installation: torch 1.13.1+cu116\n",
            "    Uninstalling torch-1.13.1+cu116:\n",
            "      Successfully uninstalled torch-1.13.1+cu116\n",
            "\u001b[31mERROR: pip's dependency resolver does not currently take into account all the packages that are installed. This behaviour is the source of the following dependency conflicts.\n",
            "torchvision 0.14.1+cu116 requires torch==1.13.1, but you have torch 1.4.0 which is incompatible.\n",
            "torchtext 0.14.1 requires torch==1.13.1, but you have torch 1.4.0 which is incompatible.\n",
            "torchaudio 0.13.1+cu116 requires torch==1.13.1, but you have torch 1.4.0 which is incompatible.\n",
            "fastai 2.7.10 requires torch<1.14,>=1.7, but you have torch 1.4.0 which is incompatible.\u001b[0m\u001b[31m\n",
            "\u001b[0mSuccessfully installed torch-1.4.0\n"
          ]
        }
      ],
      "source": [
        "!pip install transformers==2.8.0\n",
        "!pip install torch==1.4.0"
      ]
    },
    {
      "cell_type": "code",
      "source": [
        "import torch\n",
        "from transformers import T5Tokenizer,T5ForConditionalGeneration"
      ],
      "metadata": {
        "id": "k4MuLaTJr05Y"
      },
      "execution_count": null,
      "outputs": []
    },
    {
      "cell_type": "code",
      "source": [
        "#initialize the pretrained model\n",
        "model=T5ForConditionalGeneration.from_pretrained('t5-small')\n",
        "tokenizer=T5Tokenizer.from_pretrained('t5-small')"
      ],
      "metadata": {
        "colab": {
          "base_uri": "https://localhost:8080/",
          "height": 113,
          "referenced_widgets": [
            "f52805ffc5c54ad4b19efc564468bcf5",
            "87fbc508a0bf4ed798593ec849231b6b",
            "93728d8389344f6198d2a61f24dc8fa3",
            "7b95535acb85458ba1e0aeb98384e795",
            "dc6114b5e61c446980979ad97e76c2ff",
            "45df117382e549bcab09d363e63aaa19",
            "1412eef4bc404c4ba68e4b2a6ecbac3d",
            "f13850cae44f465cac1bde2945f8eeb3",
            "a8e6202db1114b389d32ccda7444e380",
            "52b7da63de2f4b9f9decc9084de80005",
            "18df5d4d16fc45aeb663828f2f8bc677",
            "7fa7cc8bfc964ca8a324085cc047bac4",
            "457628abd6794fce999c7fbcb9662b51",
            "e4babf514de54ee4af2eec0ffc34a79d",
            "b08d89bae4394e1bbfc121706f56f23c",
            "00a557dac83442a08226cd1027c6481b",
            "c99e30de0bdd4cbf8e3aed17dcdfde09",
            "3f081ba494bb41b7adc8a25c019b3067",
            "e4998df18667435fb559532447fc6e07",
            "eccabbeb8aa242cd9ad09e4f0da23a55",
            "5b79b41285ea4da69c217d1b666045a0",
            "a258396abec44e3d918d55521d3d2cbd",
            "d6a6d9f57295438aa74fe8794c92f253",
            "b6bf72a8c6b04521ad8082599a8f8764",
            "a8caf478374342739932dd3700812bcf",
            "7fcc50ad910447f7a3e847e2e9e9e738",
            "8bc966607e6548308a9529f4ce8bbb1a",
            "906b4ac0ee0242c19dbcae88708cd8ea",
            "26a26e9d88db404fa87e1a84d7017aa3",
            "41286e44eb0d44559429b4f3d1743406",
            "2913db7be9fb4758a95778a91f65b9d3",
            "31ef147966fa46cc84cc76daf5e692b4",
            "ea548e1f21d54f159957391f3f16871a"
          ]
        },
        "id": "4GbCz3-5r4qq",
        "outputId": "d0d07231-2ae3-49fd-cbbb-207a3cd648f0"
      },
      "execution_count": null,
      "outputs": [
        {
          "output_type": "display_data",
          "data": {
            "text/plain": [
              "Downloading:   0%|          | 0.00/1.20k [00:00<?, ?B/s]"
            ],
            "application/vnd.jupyter.widget-view+json": {
              "version_major": 2,
              "version_minor": 0,
              "model_id": "f52805ffc5c54ad4b19efc564468bcf5"
            }
          },
          "metadata": {}
        },
        {
          "output_type": "display_data",
          "data": {
            "text/plain": [
              "Downloading:   0%|          | 0.00/242M [00:00<?, ?B/s]"
            ],
            "application/vnd.jupyter.widget-view+json": {
              "version_major": 2,
              "version_minor": 0,
              "model_id": "7fa7cc8bfc964ca8a324085cc047bac4"
            }
          },
          "metadata": {}
        },
        {
          "output_type": "display_data",
          "data": {
            "text/plain": [
              "Downloading:   0%|          | 0.00/792k [00:00<?, ?B/s]"
            ],
            "application/vnd.jupyter.widget-view+json": {
              "version_major": 2,
              "version_minor": 0,
              "model_id": "d6a6d9f57295438aa74fe8794c92f253"
            }
          },
          "metadata": {}
        }
      ]
    },
    {
      "cell_type": "code",
      "source": [
        "import requests as rr\n",
        "from bs4 import BeautifulSoup"
      ],
      "metadata": {
        "id": "BZJ1mllgrNbz"
      },
      "execution_count": null,
      "outputs": []
    },
    {
      "cell_type": "code",
      "source": [
        "!pip install lxml"
      ],
      "metadata": {
        "colab": {
          "base_uri": "https://localhost:8080/"
        },
        "id": "KUClyx_ZrXeo",
        "outputId": "16179147-1085-42db-a7da-54cc5b32019e"
      },
      "execution_count": null,
      "outputs": [
        {
          "output_type": "stream",
          "name": "stdout",
          "text": [
            "Looking in indexes: https://pypi.org/simple, https://us-python.pkg.dev/colab-wheels/public/simple/\n",
            "Requirement already satisfied: lxml in /usr/local/lib/python3.8/dist-packages (4.9.2)\n"
          ]
        }
      ]
    },
    {
      "cell_type": "code",
      "source": [
        "!pip install html-parser"
      ],
      "metadata": {
        "colab": {
          "base_uri": "https://localhost:8080/"
        },
        "id": "gQtZw71irbqr",
        "outputId": "9660a98e-b18e-4ee9-e504-d57b8f54ab40"
      },
      "execution_count": null,
      "outputs": [
        {
          "output_type": "stream",
          "name": "stdout",
          "text": [
            "Looking in indexes: https://pypi.org/simple, https://us-python.pkg.dev/colab-wheels/public/simple/\n",
            "Collecting html-parser\n",
            "  Downloading html-parser-0.2.tar.gz (904 bytes)\n",
            "  Preparing metadata (setup.py) ... \u001b[?25l\u001b[?25hdone\n",
            "Collecting ply\n",
            "  Downloading ply-3.11-py2.py3-none-any.whl (49 kB)\n",
            "\u001b[2K     \u001b[90m━━━━━━━━━━━━━━━━━━━━━━━━━━━━━━━━━━━━━━━━\u001b[0m \u001b[32m49.6/49.6 KB\u001b[0m \u001b[31m5.1 MB/s\u001b[0m eta \u001b[36m0:00:00\u001b[0m\n",
            "\u001b[?25hBuilding wheels for collected packages: html-parser\n",
            "  Building wheel for html-parser (setup.py) ... \u001b[?25l\u001b[?25hdone\n",
            "  Created wheel for html-parser: filename=html_parser-0.2-py3-none-any.whl size=1329 sha256=1d83dfe4d5ba6bb51837451a578c91f93443d1fd2ab4ffc9d8b1616d3c1e3873\n",
            "  Stored in directory: /root/.cache/pip/wheels/4f/85/2a/67a30aa6cf144eca0c159f337ce5166df2213c4cde9e699cbe\n",
            "Successfully built html-parser\n",
            "Installing collected packages: ply, html-parser\n",
            "Successfully installed html-parser-0.2 ply-3.11\n"
          ]
        }
      ]
    },
    {
      "cell_type": "code",
      "source": [
        "import lxml"
      ],
      "metadata": {
        "id": "2FDNRcdJrgKG"
      },
      "execution_count": null,
      "outputs": []
    },
    {
      "cell_type": "code",
      "source": [
        "headers={'User-Agent':'Mozilla/5.0 (Windows NT 6.3; Win 64 ; x64) Apple WeKit /537.36(KHTML , like Gecko) Chrome/80.0.3987.162 Safari/537.36'}"
      ],
      "metadata": {
        "id": "GVSgSC0HrrQ6"
      },
      "execution_count": null,
      "outputs": []
    },
    {
      "cell_type": "code",
      "source": [
        "url='https://www.ndtv.com/world-news/rishi-sunak-snubs-pak-origin-mp-over-bbc-documentary-on-pm-modi-3706684'"
      ],
      "metadata": {
        "id": "YoaDOqR2rzOP"
      },
      "execution_count": null,
      "outputs": []
    },
    {
      "cell_type": "code",
      "source": [
        "webview = rr.get(url, headers = headers).text\n",
        "ss = BeautifulSoup(webview,\"html.parser\")\n",
        "table=ss('p')\n",
        "st=\" \"\n",
        "for i in table:\n",
        "  st+=(i.text)\n",
        "st.replace('\\n',\" \")\n",
        "st.replace('\\'t',\" \")\n",
        "st.replace('\\'s',\" \")"
      ],
      "metadata": {
        "colab": {
          "base_uri": "https://localhost:8080/",
          "height": 139
        },
        "id": "NWFC6tOpr3tS",
        "outputId": "a3b48c43-d3ff-4bf7-b832-4c2b364ba61c"
      },
      "execution_count": null,
      "outputs": [
        {
          "output_type": "execute_result",
          "data": {
            "text/plain": [
              "' Ministry of External Affairs also reacted to the BBC report.Defending Prime Minister Narendra Modi in the British Parliament, UK Prime Minister Rishi Sunak distanced himself from the BBC documentary series, saying he \"doesn\\'t agree with the characterization\" of his Indian counterpart.Mr Sunak made these remarks on the controversial documentary that was raised in the British Parliament by Pakistan-origin MP Imran Hussain.\"The UK government  position on this has been clear and long-standing and hasn\\'t changed, of course, we don\\'t tolerate persecution where it appears anywhere but I am not sure I agree at all with the characterization that the honourable gentleman has put forward to,\" he said while responding to Hussain  question on the BBC report.UK  National broadcaster BBC aired a two-part series attacking PM Narendra Modi  tenure as Gujarat Chief Minister during the Gujarat riots of 2002. The documentary sparked outrage and was removed from select platforms.Prominent Indian-origin UK citizens condemned the series. Prominent UK Citizen Lord Rami Ranger said the \"BBC caused a great deal of hurt to over a billion Indians.\"Condemning the biased reporting of BBC, Rami tweeted, \"@BBCNews You have caused a great deal of hurt to over a billion Indians It insults a democratically elected@PMOIndia Indian Police & the Indian judiciary. We condemn the riots and loss of life & also condemn your biased reporting.\"Ministry of External Affairs also reacted to the BBC report and said that this is a completely biased copy.While addressing a weekly briefing in New Delhi, MEA Spokesperson Arindam Bagchi said, \"We think this is a propaganda piece. This has no objectivity. This is biased. Do note that this hasn\\'t been screened in India. We don\\'t want to answer more on this so that this doesn\\'t get much dignity.\"He even raised questions on \"the purpose of the exercise and the agenda behind it.\"\"The documentary is a reflection of the agency and individuals that are peddling this narrative again. It makes us wonder about the purpose of the exercise and the agenda behind it; frankly, we do wish to dignify these efforts,\" he added.Referring to apparent remarks made by former UK Secretary Jack Straw in the documentary series, Bagchi said \"He (Jack Straw) seems to be referring to some internal UK report. How do I have access to that? It  a 20-year-old report. Why would we jump on it now? Just because Jack says it how do they lend it that much legitimacy.\"\"I heard words like inquiry and investigations. There is a reason why we use the colonial mindset. We don\\'t use words loosely. What inquiry they were diplomats there...investigation, are they ruling the country? Bagchi asked.(Except for the headline, this story has not been edited by NDTV staff and is published from a syndicated feed.)Track Latest News Live on NDTV.com and get news updates from India  and around the world. Watch Live News:Follow Us:................................ Advertisement ................................'"
            ],
            "application/vnd.google.colaboratory.intrinsic+json": {
              "type": "string"
            }
          },
          "metadata": {},
          "execution_count": 15
        }
      ]
    },
    {
      "cell_type": "code",
      "source": [
        "import string\n",
        "import re"
      ],
      "metadata": {
        "id": "TaaHtxVtr_PT"
      },
      "execution_count": null,
      "outputs": []
    },
    {
      "cell_type": "markdown",
      "source": [
        "Text cleaning"
      ],
      "metadata": {
        "id": "ABh5W3YqvKeD"
      }
    },
    {
      "cell_type": "code",
      "source": [
        "test_str = st.translate(str.maketrans('', '', string.punctuation))\n",
        "s=re.sub(\"[0-9]\",\"\",test_str)\n",
        "s"
      ],
      "metadata": {
        "colab": {
          "base_uri": "https://localhost:8080/",
          "height": 139
        },
        "id": "HbDqJBqfsE8l",
        "outputId": "a385f5bb-9894-43aa-9c12-6f16054622e1"
      },
      "execution_count": null,
      "outputs": [
        {
          "output_type": "execute_result",
          "data": {
            "text/plain": [
              "' Ministry of External Affairs also reacted to the BBC reportDefending Prime Minister Narendra Modi in the British Parliament UK Prime Minister Rishi Sunak distanced himself from the BBC documentary series saying he doesnt agree with the characterization of his Indian counterpartMr Sunak made these remarks on the controversial documentary that was raised in the British Parliament by Pakistanorigin MP Imran HussainThe UK governments position on this has been clear and longstanding and hasnt changed of course we dont tolerate persecution where it appears anywhere but I am not sure I agree at all with the characterization that the honourable gentleman has put forward to he said while responding to Hussains question on the BBC reportUKs National broadcaster BBC aired a twopart series attacking PM Narendra Modis tenure as Gujarat Chief Minister during the Gujarat riots of  The documentary sparked outrage and was removed from select platformsProminent Indianorigin UK citizens condemned the series Prominent UK Citizen Lord Rami Ranger said the BBC caused a great deal of hurt to over a billion IndiansCondemning the biased reporting of BBC Rami tweeted BBCNews You have caused a great deal of hurt to over a billion Indians It insults a democratically electedPMOIndia Indian Police  the Indian judiciary We condemn the riots and loss of life  also condemn your biased reportingMinistry of External Affairs also reacted to the BBC report and said that this is a completely biased copyWhile addressing a weekly briefing in New Delhi MEA Spokesperson Arindam Bagchi said We think this is a propaganda piece This has no objectivity This is biased Do note that this hasnt been screened in India We dont want to answer more on this so that this doesnt get much dignityHe even raised questions on the purpose of the exercise and the agenda behind itThe documentary is a reflection of the agency and individuals that are peddling this narrative again It makes us wonder about the purpose of the exercise and the agenda behind it frankly we do wish to dignify these efforts he addedReferring to apparent remarks made by former UK Secretary Jack Straw in the documentary series Bagchi said He Jack Straw seems to be referring to some internal UK report How do I have access to that Its a yearold report Why would we jump on it now Just because Jack says it how do they lend it that much legitimacyI heard words like inquiry and investigations There is a reason why we use the colonial mindset We dont use words loosely What inquiry they were diplomats thereinvestigation are they ruling the country Bagchi askedExcept for the headline this story has not been edited by NDTV staff and is published from a syndicated feedTrack Latest News Live on NDTVcom and get news updates from India  and around the world Watch Live NewsFollow Us Advertisement '"
            ],
            "application/vnd.google.colaboratory.intrinsic+json": {
              "type": "string"
            }
          },
          "metadata": {},
          "execution_count": 17
        }
      ]
    },
    {
      "cell_type": "code",
      "source": [
        "len(s.split())"
      ],
      "metadata": {
        "colab": {
          "base_uri": "https://localhost:8080/"
        },
        "id": "tzy7Al87tkqx",
        "outputId": "0cc818c2-cca5-4998-dcb3-e2ada2d3f7c4"
      },
      "execution_count": null,
      "outputs": [
        {
          "output_type": "execute_result",
          "data": {
            "text/plain": [
              "470"
            ]
          },
          "metadata": {},
          "execution_count": 31
        }
      ]
    },
    {
      "cell_type": "code",
      "source": [
        "tokenized_text = tokenizer.encode(s,return_tensors='pt',max_length=512)\n",
        "tokenized_text"
      ],
      "metadata": {
        "id": "vZVROlWrtnoF",
        "colab": {
          "base_uri": "https://localhost:8080/"
        },
        "outputId": "0d57225d-0c97-4296-c3ab-dd62c0a8c563"
      },
      "execution_count": null,
      "outputs": [
        {
          "output_type": "execute_result",
          "data": {
            "text/plain": [
              "tensor([[ 7849,    13, 26241, 12078,    92,     3,    60,  9925,    12,     8,\n",
              "          9938,   934, 16196,  9303,  5923,  3271, 13346, 12524,  5073,    23,\n",
              "            16,     8,  2390, 12876,  1270,  5923,  3271,  2403,  5605,  3068,\n",
              "          1639,  2357,    26,  2448,    45,     8,  9938, 12481,   939,  2145,\n",
              "             3,    88,   744,    17,  2065,    28,     8,     3, 28561,    13,\n",
              "           112,  2557, 15473,   329,    52,  3068,  1639,   263,   175, 21029,\n",
              "            30,     8, 15202, 12481,    24,    47,  3279,    16,     8,  2390,\n",
              "         12876,    57,  6697,    32,  3380,    77,  5220,  1318,  2002, 13674,\n",
              "             7,     9,    77,   634,  1270, 10524,  1102,    30,    48,    65,\n",
              "           118,   964,    11,   307, 11018,    11,    65,    29,    17,  2130,\n",
              "            13,   503,    62,  2483, 21533, 30308,   213,    34,  3475,  3461,\n",
              "            68,    27,   183,    59,   417,    27,  2065,    44,    66,    28,\n",
              "             8,     3, 28561,    24,     8, 14950,   179, 26266,    65,   474,\n",
              "          1039,    12,     3,    88,   243,   298, 16523,    12, 13674,     7,\n",
              "         13676,   822,    30,     8,  9938,   934, 15787,     7,   868,  6878,\n",
              "            49,  9938,     3,  2378,    26,     3,     9,   192,  2274,   939,\n",
              "         20550,  3246, 13346, 12524,  5073,   159, 20752,    38, 30812,  5116,\n",
              "          3271,   383,     8, 30812,     3, 12884,     7,    13,    37, 12481,\n",
              "             3,     7, 16669,    91,  4843,    11,    47,  3641,    45,  1738,\n",
              "          5357,  3174,  1109,   295,  2557,    32,  3380,    77,  1270,  5169,\n",
              "         29504,     8,   939,   749,  1109,   295,  1270, 17795,  1847,  2809,\n",
              "          4425,    23, 10971,    52,   243,     8,  9938,  2953,     3,     9,\n",
              "           248,  1154,    13,  4781,    12,   147,     3,     9,  2108,  2557,\n",
              "             7,  4302,  1778,    29,    53,     8, 30026,  5099,    13,  9938,\n",
              "          4425,    23, 27975,  9938,  6861,     7,   148,    43,  2953,     3,\n",
              "             9,   248,  1154,    13,  4781,    12,   147,     3,     9,  2108,\n",
              "          2557,     7,    94, 21548,     7,     3,     9, 15053,  1427,  8160,\n",
              "           345,  5365, 22126,  2557,  5076,     8,  2557, 23583,    63,   101,\n",
              "         24326,     8,     3, 12884,     7,    11,  1453,    13,   280,    92,\n",
              "         24326,    39, 30026,  5099, 12858,   343,   651,    13, 26241, 12078,\n",
              "            92,     3,    60,  9925,    12,     8,  9938,   934,    11,   243,\n",
              "            24,    48,    19,     3,     9,  1551, 30026,  2405, 27674,     3,\n",
              "         14198,     3,     9,  5547,  4456,    53,    16,   368, 10619,  7934,\n",
              "           188,  8927,  7735,  6075,    71, 13119,   265,  8055,  1436,   243,\n",
              "           101,   317,    48,    19,     3,     9, 25071,  1466,   100,    65,\n",
              "           150,  3735, 10696,   100,    19, 30026,   531,  2232,    24,    48,\n",
              "            65,    29,    17,   118,     3, 22529,    16,  1547,   101,  2483,\n",
              "           241,    12,  1525,    72,    30,    48,    78,    24,    48,   744,\n",
              "            17,   129,   231, 21377,  3845,   237,  3279,   746,    30,     8,\n",
              "          1730,    13,     8,  2510,    11,     8,  8101,  1187,    34,   634,\n",
              "         12481,    19,     3,     9,  9619,    13,     8,  3193,    11,  1742,\n",
              "            24,    33,   158, 19955,    48,  8109,   541,    94,   656,   178,\n",
              "          3337,    81,     8,  1730,    13,     8,  2510,    11,     8,  8101,\n",
              "          1187,    34, 26200,    62,   103,  1663,    12,  9799,    29,  4921,\n",
              "           175,  2231,     3,    88,   974,  1649,  1010,  1007,    12, 10320,\n",
              "         21029,   263,    57,  1798,  1270,  7471,  4496,  5438,   210,    16,\n",
              "             8, 12481,   939,  8055,  1436,   243,   216,  4496,  5438,   210,\n",
              "          1330,    12,    36,     3, 13215,    12,   128,  3224,  1270,   934,\n",
              "           571,   103,    27,    43,   592,    12,    24,    94,     7,     3,\n",
              "             9,   215,  1490,   934,  1615,   133,    62,  4418,    30,    34,\n",
              "           230,  1142,   250,  4496,   845,    34,   149,   103,    79, 16173,\n",
              "            34,    24]])"
            ]
          },
          "metadata": {},
          "execution_count": 28
        }
      ]
    },
    {
      "cell_type": "markdown",
      "source": [
        "Summarize"
      ],
      "metadata": {
        "id": "Z12TcF-cwbqA"
      }
    },
    {
      "cell_type": "code",
      "source": [
        "summary_ids = model.generate(tokenized_text,min_length=40,max_length=120)\n",
        "summary = tokenizer.decode(summary_ids[0],skip_special_tokens=True)"
      ],
      "metadata": {
        "id": "dzbnjHZytqqP"
      },
      "execution_count": null,
      "outputs": []
    },
    {
      "cell_type": "code",
      "source": [
        "summary"
      ],
      "metadata": {
        "colab": {
          "base_uri": "https://localhost:8080/",
          "height": 70
        },
        "id": "TyZ4oIoltsT5",
        "outputId": "5ac66ef8-b9aa-4456-f637-9c6fcefd79ea"
      },
      "execution_count": null,
      "outputs": [
        {
          "output_type": "execute_result",
          "data": {
            "text/plain": [
              "'referring to some internal UK report How do I have access to that Its a yearold report How do they lend it that it is a yearold report How do I have access to that Its a yearold report How do I have access to that Its a yearold report How do they lend it that it is a yearold report How do I have access to that Its a yearold report How do I have access to that Its a yearold report How do I have access to that Its'"
            ],
            "application/vnd.google.colaboratory.intrinsic+json": {
              "type": "string"
            }
          },
          "metadata": {},
          "execution_count": 30
        }
      ]
    }
  ]
}